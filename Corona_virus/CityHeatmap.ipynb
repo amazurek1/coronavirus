{
 "cells": [
  {
   "cell_type": "code",
   "execution_count": 1,
   "metadata": {},
   "outputs": [],
   "source": [
    "import pandas as pd"
   ]
  },
  {
   "cell_type": "code",
   "execution_count": 2,
   "metadata": {},
   "outputs": [],
   "source": [
    "result = pd.read_csv('cityHeatMapData.csv')"
   ]
  },
  {
   "cell_type": "code",
   "execution_count": 4,
   "metadata": {},
   "outputs": [],
   "source": [
    "lat_final = []\n",
    "lon_final = []\n",
    "i = 0\n",
    "for count in list(result['counts']):\n",
    "    for num in range(0,count):\n",
    "        lat_final.append(list(result['lat'])[i])\n",
    "        lon_final.append(list(result['lon'])[i])\n",
    "    i+=1\n",
    "    \n",
    "import pandas as pd\n",
    "import gmplot\n",
    "from IPython.display import display\n",
    "# Creating the location we would like to initialize the focus on. \n",
    "# Parameters: Lattitude, Longitude, Zoom\n",
    "gmap = gmplot.GoogleMapPlotter(30.595105, 114.299935, 10)\n",
    "# Overlay our datapoints onto the map\n",
    "gmap.heatmap(lat_final, lon_final)\n",
    "# Generate the heatmap into an HTML file\n",
    "gmap.draw(\"my_heatmap.html\")\n"
   ]
  },
  {
   "cell_type": "code",
   "execution_count": null,
   "metadata": {},
   "outputs": [],
   "source": []
  }
 ],
 "metadata": {
  "kernelspec": {
   "display_name": "Python 3",
   "language": "python",
   "name": "python3"
  },
  "language_info": {
   "codemirror_mode": {
    "name": "ipython",
    "version": 3
   },
   "file_extension": ".py",
   "mimetype": "text/x-python",
   "name": "python",
   "nbconvert_exporter": "python",
   "pygments_lexer": "ipython3",
   "version": "3.7.4"
  }
 },
 "nbformat": 4,
 "nbformat_minor": 2
}
