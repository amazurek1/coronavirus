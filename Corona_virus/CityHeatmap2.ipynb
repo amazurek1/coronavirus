{
 "cells": [
  {
   "cell_type": "code",
   "execution_count": 1,
   "metadata": {},
   "outputs": [],
   "source": [
    "import pandas as pd\n",
    "import gmaps"
   ]
  },
  {
   "cell_type": "code",
   "execution_count": 2,
   "metadata": {},
   "outputs": [],
   "source": [
    "data = pd.read_csv('cityHeatMapData.csv')"
   ]
  },
  {
   "cell_type": "code",
   "execution_count": 5,
   "metadata": {},
   "outputs": [
    {
     "data": {
      "text/html": [
       "<div>\n",
       "<style scoped>\n",
       "    .dataframe tbody tr th:only-of-type {\n",
       "        vertical-align: middle;\n",
       "    }\n",
       "\n",
       "    .dataframe tbody tr th {\n",
       "        vertical-align: top;\n",
       "    }\n",
       "\n",
       "    .dataframe thead th {\n",
       "        text-align: right;\n",
       "    }\n",
       "</style>\n",
       "<table border=\"1\" class=\"dataframe\">\n",
       "  <thead>\n",
       "    <tr style=\"text-align: right;\">\n",
       "      <th></th>\n",
       "      <th>lat</th>\n",
       "      <th>lon</th>\n",
       "    </tr>\n",
       "  </thead>\n",
       "  <tbody>\n",
       "    <tr>\n",
       "      <td>0</td>\n",
       "      <td>30.595105</td>\n",
       "      <td>114.299935</td>\n",
       "    </tr>\n",
       "    <tr>\n",
       "      <td>1</td>\n",
       "      <td>39.352737</td>\n",
       "      <td>115.497201</td>\n",
       "    </tr>\n",
       "    <tr>\n",
       "      <td>2</td>\n",
       "      <td>22.279328</td>\n",
       "      <td>114.162813</td>\n",
       "    </tr>\n",
       "    <tr>\n",
       "      <td>3</td>\n",
       "      <td>33.738937</td>\n",
       "      <td>113.280364</td>\n",
       "    </tr>\n",
       "    <tr>\n",
       "      <td>4</td>\n",
       "      <td>24.413921</td>\n",
       "      <td>103.412702</td>\n",
       "    </tr>\n",
       "    <tr>\n",
       "      <td>...</td>\n",
       "      <td>...</td>\n",
       "      <td>...</td>\n",
       "    </tr>\n",
       "    <tr>\n",
       "      <td>121</td>\n",
       "      <td>36.263051</td>\n",
       "      <td>111.914925</td>\n",
       "    </tr>\n",
       "    <tr>\n",
       "      <td>122</td>\n",
       "      <td>35.179953</td>\n",
       "      <td>129.075236</td>\n",
       "    </tr>\n",
       "    <tr>\n",
       "      <td>123</td>\n",
       "      <td>29.331373</td>\n",
       "      <td>85.230342</td>\n",
       "    </tr>\n",
       "    <tr>\n",
       "      <td>124</td>\n",
       "      <td>34.759188</td>\n",
       "      <td>113.652408</td>\n",
       "    </tr>\n",
       "    <tr>\n",
       "      <td>125</td>\n",
       "      <td>37.749138</td>\n",
       "      <td>114.769962</td>\n",
       "    </tr>\n",
       "  </tbody>\n",
       "</table>\n",
       "<p>126 rows × 2 columns</p>\n",
       "</div>"
      ],
      "text/plain": [
       "           lat         lon\n",
       "0    30.595105  114.299935\n",
       "1    39.352737  115.497201\n",
       "2    22.279328  114.162813\n",
       "3    33.738937  113.280364\n",
       "4    24.413921  103.412702\n",
       "..         ...         ...\n",
       "121  36.263051  111.914925\n",
       "122  35.179953  129.075236\n",
       "123  29.331373   85.230342\n",
       "124  34.759188  113.652408\n",
       "125  37.749138  114.769962\n",
       "\n",
       "[126 rows x 2 columns]"
      ]
     },
     "execution_count": 5,
     "metadata": {},
     "output_type": "execute_result"
    }
   ],
   "source": [
    "data[['lat','lon']]|"
   ]
  },
  {
   "cell_type": "code",
   "execution_count": 35,
   "metadata": {},
   "outputs": [
    {
     "data": {
      "application/vnd.jupyter.widget-view+json": {
       "model_id": "8525e6b6bb484dc984ac65fd795401ec",
       "version_major": 2,
       "version_minor": 0
      },
      "text/plain": [
       "Figure(layout=FigureLayout(height='420px'))"
      ]
     },
     "metadata": {},
     "output_type": "display_data"
    }
   ],
   "source": [
    "import config\n",
    "gmaps.configure(api_key=config.api_key) # Fill in with your API key\n",
    "\"\"\"\n",
    "var wuhanLatlng = new google.maps.LatLng(30.595105, 114.299935);\n",
    "var mapOptions = {\n",
    "  zoom: 8,\n",
    "  center: wuhanLatlng,\n",
    "  mapTypeId: 'roadmap'\n",
    "};\n",
    "\"\"\"\n",
    "wuhan_coordinates = (30.595105, 114.299935)\n",
    "shanghai_coords = (31.225298, 121.48905)\n",
    "\n",
    "# gmaps.scatter( data['lat'], data['long'], '# FF0000', size = 40, marker = True)\n",
    "locations = [\n",
    "        (-34.0, -59.166672),\n",
    "        (-32.23333, -64.433327),\n",
    "        (40.166672, 44.133331),\n",
    "        (51.216671, 5.0833302),\n",
    "        (51.333328, 4.25)\n",
    "    ]\n",
    "symbols = gmaps.symbol_layer(\n",
    "        data[['lat','lon']], fill_color='purple', stroke_color='purple', scale=1)\n",
    "\n",
    "heatmap_layer = gmaps.heatmap_layer(data[['lat','lon']], weights=data['counts']*2,max_intensity=1000, point_radius=30.0\n",
    ")\n",
    "\n",
    "\n",
    "# m = gmaps.Map()\n",
    "# m.add_layer(heatmap_layer)\n",
    "# m\n",
    "fig = gmaps.figure(center=shanghai_coords, zoom_level=5, map_type='ROADMAP')\n",
    "fig.add_layer(heatmap_layer)\n",
    "fig.add_layer(symbols)\n",
    "fig\n",
    "\n"
   ]
  },
  {
   "cell_type": "code",
   "execution_count": null,
   "metadata": {},
   "outputs": [],
   "source": []
  }
 ],
 "metadata": {
  "kernelspec": {
   "display_name": "Python 3",
   "language": "python",
   "name": "python3"
  },
  "language_info": {
   "codemirror_mode": {
    "name": "ipython",
    "version": 3
   },
   "file_extension": ".py",
   "mimetype": "text/x-python",
   "name": "python",
   "nbconvert_exporter": "python",
   "pygments_lexer": "ipython3",
   "version": "3.7.4"
  }
 },
 "nbformat": 4,
 "nbformat_minor": 2
}
